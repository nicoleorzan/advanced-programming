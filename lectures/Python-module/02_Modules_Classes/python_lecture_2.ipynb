{
 "cells": [
  {
   "cell_type": "markdown",
   "metadata": {
    "slideshow": {
     "slide_type": "slide"
    }
   },
   "source": [
    "## The Standard Library: \"batteries included\" philosophy\n",
    "\n",
    "* operating system interface: os, shutil\n",
    "* file wildcards: glob\n",
    "* command line arguments: sys.argv\n",
    "* error output redirection: sys.stderr\n",
    "* regular expressions: re \n",
    "* math: math, random, statistics\n",
    "* sql query language: sqlite3\n",
    "* comma separated value format: csv\n",
    "* data interchange format: json\n",
    "* internet access: urllib.request, smtplib\n",
    "* dates and times: datetime\n",
    "* data compression: zlib, gzip, bz2, lzma, zipfile and tarfile\n",
    "* profiling performance: timeit, profile, pstats \n",
    "* quality control: doctest, unittest\n",
    "* ...\n"
   ]
  },
  {
   "cell_type": "markdown",
   "metadata": {
    "slideshow": {
     "slide_type": "slide"
    }
   },
   "source": [
    "## Simple text processing using str.format()\n",
    "\n",
    "* manipulate string using arguments: by position, by name \n",
    "* accessing arguments' attributes and items\n",
    "* conversion flags: '!s' calls str(), '!r' calls repr(), '!a' calls ascii()\n",
    " * to inspect string content\n",
    "* manipulate string alignment and fill char\n",
    "* manipulate string: conversions\n",
    " * decimal ('d',default), binary ('b'), character ('c'), octa ('o'), hex('x' o 'X'), exponent ('e'), fixed point ('f'), percentage ('%')\n",
    " \n",
    " \n",
    " ## Paths\n",
    "\n",
    "* the module os.path allows path manipulation \n",
    "* the module glob finds all the pathnames matching"
   ]
  },
  {
   "cell_type": "code",
   "execution_count": 1,
   "metadata": {
    "slideshow": {
     "slide_type": "subslide"
    }
   },
   "outputs": [
    {
     "name": "stdout",
     "output_type": "stream",
     "text": [
      "access by position\n",
      "access by position\n",
      "again by position\n",
      "access can be repeat can be repeat can be repeat\n",
      "\n",
      "\n",
      "Sissa gps coordinates: 45.680243, 13.774218\n",
      "Ictp gps coordinates: 45.704175, 13.719495\n",
      "Miramare gps coordinates: 45.703465, 13.707386\n",
      "\n",
      "\n",
      "Real part of (2+1j) is 2.0\n"
     ]
    }
   ],
   "source": [
    "# using string arguments\n",
    "print('{0} {1} {2}'.format('access','by','position','again','can be repeat'))\n",
    "print('{} {} {}'.format('access','by','position','again','can be repeat'))\n",
    "print('{3} {1} {2}'.format('access','by','position','again','can be repeat'))\n",
    "print('{0} {4} {4} {4}'.format('access','by','position','again','can be repeat'))\n",
    "\n",
    "print(\"\\n\")\n",
    "print('Sissa gps coordinates: {latitude}, {longitude}'.format(latitude='45.680243',longitude='13.774218')) \n",
    "print('Ictp gps coordinates: {latitude}, {longitude}'.format(**{'latitude':45.704175, 'longitude':13.719495})) \n",
    "print('Miramare gps coordinates: {0[0]}, {0[1]}'.format((45.703465, 13.707386)))\n",
    "\n",
    "print(\"\\n\")\n",
    "print('Real part of {0} is {0.real}'.format(2+1j))"
   ]
  },
  {
   "cell_type": "code",
   "execution_count": 28,
   "metadata": {
    "slideshow": {
     "slide_type": "subslide"
    }
   },
   "outputs": [
    {
     "name": "stdout",
     "output_type": "stream",
     "text": [
      "2017-12-19 11:26:17.517214 \n",
      " -> <class 'str'>\n",
      "datetime.datetime(2017, 12, 19, 11, 26, 17, 517214) \n",
      " -> <class 'str'>\n"
     ]
    }
   ],
   "source": [
    "%reset -f \n",
    "import datetime\n",
    "now = datetime.datetime.now() \n",
    "print(str(now) ,'\\n ->',type(str(now)))\n",
    "print(repr(now),'\\n ->',type(repr(now))) # repr returns a string containing a printable representation of an object."
   ]
  },
  {
   "cell_type": "code",
   "execution_count": 41,
   "metadata": {},
   "outputs": [
    {
     "name": "stdout",
     "output_type": "stream",
     "text": [
      "あ \t -> <class 'str'>\n",
      "'あ' \t -> <class 'str'>\n",
      "'\\u3042' \t -> <class 'str'>\n"
     ]
    }
   ],
   "source": [
    "%reset -f\n",
    "unicode_c = u'あ'    # unicode char\n",
    "print(str(unicode_c)  ,'\\t ->',type(str(unicode_c)))\n",
    "print(repr(unicode_c) ,'\\t ->',type(repr(unicode_c)))  # returns a printable representation of an object as a string\n",
    "print(ascii(unicode_c),'\\t ->',type(ascii(unicode_c))) # as repr, but escape the non-ASCII characters in the string"
   ]
  },
  {
   "cell_type": "code",
   "execution_count": 2,
   "metadata": {
    "slideshow": {
     "slide_type": "subslide"
    }
   },
   "outputs": [
    {
     "name": "stdout",
     "output_type": "stream",
     "text": [
      "\n",
      "nice string formatting:\n",
      "\u001b[4munderlined\u001b[0m\n",
      "\u001b[1mbold\u001b[0m\n",
      "\u001b[94m\u001b[1mbold\u001b[0m\n",
      "\n",
      "\u001b[91mstr():\u001b[0mreadable \t \u001b[91mrepr():\u001b[0munambiguous \t \u001b[91mascii():\u001b[0muses escape sequence for non-ascii\n",
      "\n",
      "str(): \u001b[4munderlined\u001b[0m\n",
      "repr(): '\\x1b[4munderlined\\x1b[0m'\n",
      "ascii(): '\\x1b[4munderlined\\x1b[0m'\n",
      "\n",
      "str(): ë\n",
      "repr(): 'ë'\n",
      "ascii(): '\\xeb'\n"
     ]
    }
   ],
   "source": [
    "# string format\n",
    "sf = {\\\n",
    "   'PURPLE':'\\033[95m',\\\n",
    "   'CYAN':'\\033[96m',\\\n",
    "   'DARKCYAN':'\\033[36m',\\\n",
    "   'BLUE':'\\033[94m',\\\n",
    "   'GREEN':'\\033[92m',\\\n",
    "   'YELLOW':'\\033[93m',\\\n",
    "   'RED':'\\033[91m',\\\n",
    "   'BOLD':'\\033[1m',\\\n",
    "   'UNDERLINE':'\\033[4m',\\\n",
    "   'END':'\\033[0m'}\n",
    "\n",
    "print('\\nnice string formatting:')\n",
    "us = sf['UNDERLINE']+'underlined'+sf['END']\n",
    "bs = sf['BOLD']+'bold'+sf['END']\n",
    "bbs = sf['BLUE']+bs\n",
    "print(us)\n",
    "print(bs)\n",
    "print(bbs)\n",
    "print(\"\\n{r}str():{e}{} \\t {r}repr():{e}{} \\t {r}ascii():{e}{}\".format('readable',\\\n",
    "                                                                       'unambiguous',\\\n",
    "                                                                       'uses escape sequence for non-ascii',\\\n",
    "                                                                       r=sf['RED'],e=sf['END']))\n",
    "# conversion flags \n",
    "# !s -> str()\n",
    "# !r -> repr()\n",
    "# !a -> ascii()\n",
    "print('\\nstr(): {!s}\\nrepr(): {!r}\\nascii(): {!a}'.format(us,us,us))\n",
    "print('\\nstr(): {!s}\\nrepr(): {!r}\\nascii(): {!a}'.format('ë','ë','ë'))"
   ]
  },
  {
   "cell_type": "code",
   "execution_count": 6,
   "metadata": {
    "slideshow": {
     "slide_type": "subslide"
    }
   },
   "outputs": [
    {
     "name": "stdout",
     "output_type": "stream",
     "text": [
      "left aligned^^^^^^^^\n",
      "_______right aligned\n",
      "......centered......\n",
      "      centered      \n"
     ]
    }
   ],
   "source": [
    "print('{:^<20}'.format('left aligned'))\n",
    "print('{:_>20}'.format('right aligned'))\n",
    "print('{:.^20}'.format('centered'))\n",
    "print('{:^20}'.format('centered'))"
   ]
  },
  {
   "cell_type": "code",
   "execution_count": 4,
   "metadata": {
    "slideshow": {
     "slide_type": "subslide"
    }
   },
   "outputs": [
    {
     "name": "stdout",
     "output_type": "stream",
     "text": [
      "+1.000000; -1.000000\n",
      " 1.000000; -1.000000\n",
      "1.000000; -1.000000\n"
     ]
    }
   ],
   "source": [
    "print('{:+f}; {:+f}'.format(1, -1)) # show always the sign\n",
    "print('{: f}; {: f}'.format(1, -1)) # + becomes a space\n",
    "print('{:-f}; {:-f}'.format(1, -1)) # show only the minus"
   ]
  },
  {
   "cell_type": "code",
   "execution_count": 47,
   "metadata": {
    "slideshow": {
     "slide_type": "subslide"
    }
   },
   "outputs": [
    {
     "name": "stdout",
     "output_type": "stream",
     "text": [
      "int: 42;  hex: 2a;  oct: 52;  bin: 101010\n",
      "          hex: 0x2a;  oct: 0o52;  bin: 0b101010\n",
      "12.345678911%\n"
     ]
    }
   ],
   "source": [
    "print(\"int: {0:d};  hex: {0:x};  oct: {0:o};  bin: {0:b}\".format(42))\n",
    "# with 0x, 0o, or 0b as prefix:\n",
    "print(\"          hex: {0:#x};  oct: {0:#o};  bin: {0:#b}\".format(42)) \n",
    "# percentage & digit of resolution after the decimal point\n",
    "print('{:.9%}'.format(0.123456789110123456789))"
   ]
  },
  {
   "cell_type": "markdown",
   "metadata": {
    "slideshow": {
     "slide_type": "slide"
    }
   },
   "source": [
    "## Simple path manipulation\n",
    "\n",
    "* os.path: Common pathname manipulations\n",
    "* glob: Unix style pathname pattern expansion"
   ]
  },
  {
   "cell_type": "code",
   "execution_count": 15,
   "metadata": {
    "slideshow": {
     "slide_type": "subslide"
    }
   },
   "outputs": [
    {
     "name": "stdout",
     "output_type": "stream",
     "text": [
      "\n",
      "/home/jaky/Documents/MHPC/python-advanced-programming\n",
      "['.git', '.gitignore', 'python_lecture_2.ipynb', 'exercises', '.ipynb_checkpoints', 'python_lecture_1.ipynb', 'figures', 'modules', '.README.md', 'README.md']\n",
      "\n",
      "/home/jaky/Documents/MHPC/python-advanced-programming/python-lectures\n",
      "['test_relative_paths.py', 'myFirstPackage', 'parse_input.py']\n",
      "\n",
      "/home/jaky/Documents/MHPC/python-advanced-programming/python-lectures/modules\n",
      "['.git', '.gitignore', 'python_lecture_2.ipynb', 'exercises', '.ipynb_checkpoints', 'python_lecture_1.ipynb', 'figures', 'modules', '.README.md', 'README.md']\n"
     ]
    }
   ],
   "source": [
    "# retreive absolute path and navigate joining relative paths\n",
    "import os.path \n",
    "\n",
    "currentPath = os.path.abspath('.')                # I am here \n",
    "print(\"\\n\",os.path.dirname(currentPath),sep=\"\") \n",
    "print(os.listdir(currentPath),sep=\"\") \n",
    "\n",
    "currentPath = os.path.join(currentPath,'modules') # -> cd modules\n",
    "print(\"\\n\",os.path.dirname(currentPath),sep=\"\") \n",
    "print(os.listdir(currentPath),sep=\"\") \n",
    "\n",
    "currentPath = os.path.join(currentPath,'..')      # -> cd ..\n",
    "print(\"\\n\",os.path.dirname(currentPath),sep=\"\") \n",
    "print(os.listdir(currentPath),sep=\"\") "
   ]
  },
  {
   "cell_type": "code",
   "execution_count": 1,
   "metadata": {
    "slideshow": {
     "slide_type": "subslide"
    }
   },
   "outputs": [
    {
     "name": "stdout",
     "output_type": "stream",
     "text": [
      "['README.md']\n",
      "False\n"
     ]
    }
   ],
   "source": [
    "%reset -f\n",
    "import glob\n",
    "import os.path\n",
    "\n",
    "mdFile = glob.glob('*.md')                                         # finds markdown files\n",
    "print(mdFile)\n",
    "print(os.path.isdir\\\n",
    "     (os.path.join(os.path.abspath('.'),mdFile[0]))) # is a markdown file a dir?"
   ]
  },
  {
   "cell_type": "markdown",
   "metadata": {
    "slideshow": {
     "slide_type": "slide"
    }
   },
   "source": [
    "## Parsing inputs from command line to a script\n",
    "\n",
    "* a script is a file that is executed\n",
    "* every .py file has a global variable \\__name\\__ (set to '\\__main\\__' for scripts)\n",
    " * you can write a standalone script and definitions for other programs (i.e., modules) in the same file\n"
   ]
  },
  {
   "cell_type": "markdown",
   "metadata": {
    "slideshow": {
     "slide_type": "subslide"
    }
   },
   "source": [
    "* sys.argv stores in a list the command line arguments of a python call\n",
    "* getopt.getopt(argv, options\\[, long_options\\]): this module parses a list of string\n",
    "\n",
    "### [modules/parse_input_using_getopt_and_sys.py](modules/parse_input_using_getopt_and_sys.py)\n",
    "```python\n",
    "import getopt, sys\n",
    "\n",
    "if __name__ == \"__main__\":\n",
    "    # getopt.getopt(argv, options[, long_options]) \n",
    "    # argv is a list containing all string to parse\n",
    "    # options are preceded by -\n",
    "    #  -> if an argument is needed, use :\n",
    "    # long_options are preceded by --\n",
    "    #  -> if an argument is needed, use =\n",
    "    argv = sys.argv[:]\n",
    "    opts,args = getopt.getopt(argv[1:],\\\n",
    "                              'ab:c:',\\\n",
    "                              ['just-a-flag',\\\n",
    "                               'set-this-param-to=',\\\n",
    "                               'same-of-a']) \n",
    "\n",
    "    print(\"sys.argv -> {}\\n\".format(argv))\n",
    "    print(\"opts -> {} \\nargs -> {}\\n\".format(opts,args) )\n",
    "```"
   ]
  },
  {
   "cell_type": "code",
   "execution_count": 8,
   "metadata": {
    "slideshow": {
     "slide_type": "subslide"
    }
   },
   "outputs": [
    {
     "name": "stdout",
     "output_type": "stream",
     "text": [
      "sys.argv -> ['modules/parse_input_using_getopt_and_sys.py', '-a', '-b', '1', '-c1', '--set-this-param-to=cond1', '--just-a-flag', 'arg1', 'arg2', '...', 'argN']\r\n",
      "\r\n",
      "opts -> [('-a', ''), ('-b', '1'), ('-c', '1'), ('--set-this-param-to', 'cond1'), ('--just-a-flag', '')] \r\n",
      "args -> ['arg1', 'arg2', '...', 'argN']\r\n",
      "\r\n"
     ]
    }
   ],
   "source": [
    "!python modules/parse_input_using_getopt_and_sys.py\\\n",
    "                                                    -a -b 1 -c1\\\n",
    "                                                    --set-this-param-to=cond1 --just-a-flag\\\n",
    "                                                    arg1 arg2 ... argN"
   ]
  },
  {
   "cell_type": "markdown",
   "metadata": {
    "slideshow": {
     "slide_type": "subslide"
    }
   },
   "source": [
    "* argparse module is an alternative\n",
    " * has a modular structure (easier to maintain) \n",
    " * you can create the help argument-after-argument\n",
    " \n",
    "### [modules/parse_input_using_argparse.py](modules/parse_input_using_argparse.py)\n",
    "```python\n",
    "import argparse\n",
    "\n",
    "if __name__ == \"__main__\":\n",
    "\n",
    "    # nargs=int: int arguments\n",
    "    #       '?': 0 or 1 arguments\n",
    "    #       '*': 0 or many arguments\n",
    "    #       '+': Many, at least one, argument\n",
    "    parser = argparse.ArgumentParser(description=\\\n",
    "            'here you can describe what this program does')\n",
    "    parser.add_argument('-a','--same-of-a',help='-a needs no argument',nargs='?') # -a is the same of --same-of-a, expect 0 or 1 argument \n",
    "    parser.add_argument('-b',help='-b needs 1 arg',nargs=1) # -b expects 1 argument\n",
    "    parser.add_argument('-c',help='-c needs 2 args',nargs=2) # -c expects 2 arguments\n",
    "    parser.add_argument('-d',help='-d accepts all arguments',nargs='*') # -c expects 2 arguments\n",
    "    parser.add_argument('--set-this-param-to=',help='instructions for --set-this-param-to',nargs=1) # --set-this-param-to expects 1 arg\n",
    "    parser.add_argument('this-setting',help='setting needs no arguments',nargs='?') \n",
    "    args = parser.parse_args()\n",
    "    print(\"{}\\n\".format(args) )\n",
    "\n",
    "```  "
   ]
  },
  {
   "cell_type": "code",
   "execution_count": 68,
   "metadata": {
    "slideshow": {
     "slide_type": "subslide"
    }
   },
   "outputs": [
    {
     "name": "stdout",
     "output_type": "stream",
     "text": [
      "Namespace(b=['1'], c=['1', '2'], d=None, same_of_a=None, set_this_param_to==['cond1'], this-setting='this-setting')\r\n",
      "\r\n"
     ]
    }
   ],
   "source": [
    "!python modules/parse_input_using_argparse.py\\\n",
    "                                                -a -b 1 -c 1 2\\\n",
    "                                                --set-this-param-to=cond1 this-setting"
   ]
  },
  {
   "cell_type": "code",
   "execution_count": 71,
   "metadata": {
    "slideshow": {
     "slide_type": "subslide"
    }
   },
   "outputs": [
    {
     "name": "stdout",
     "output_type": "stream",
     "text": [
      "Namespace(b=None, c=None, d=['1', '2', '3', '4', '5'], same_of_a='1', set_this_param_to==None, this-setting=None)\r\n",
      "\r\n"
     ]
    }
   ],
   "source": [
    "!python modules/parse_input_using_argparse.py -a 1 -d 1 2 3 4 5"
   ]
  },
  {
   "cell_type": "code",
   "execution_count": 48,
   "metadata": {
    "slideshow": {
     "slide_type": "subslide"
    }
   },
   "outputs": [
    {
     "name": "stdout",
     "output_type": "stream",
     "text": [
      "Namespace(b=None, c=None, d=['1', '2', '3', '4', '5'], same_of_a='1', set_this_param_to==None, this-setting=None)\r\n",
      "\r\n"
     ]
    }
   ],
   "source": [
    "!python modules/parse_input_using_argparse.py -d 1 2 3 4 5 -a 1 "
   ]
  },
  {
   "cell_type": "code",
   "execution_count": 49,
   "metadata": {
    "slideshow": {
     "slide_type": "subslide"
    }
   },
   "outputs": [
    {
     "name": "stdout",
     "output_type": "stream",
     "text": [
      "usage: parse_input_using_argparse.py [-h] [-a [SAME_OF_A]] [-b B] [-c C C]\r\n",
      "                                     [-d [D [D ...]]]\r\n",
      "                                     [--set-this-param-to= SET_THIS_PARAM_TO=]\r\n",
      "                                     [this-setting]\r\n",
      "\r\n",
      "here you can describe what this program does\r\n",
      "\r\n",
      "positional arguments:\r\n",
      "  this-setting          setting needs no arguments\r\n",
      "\r\n",
      "optional arguments:\r\n",
      "  -h, --help            show this help message and exit\r\n",
      "  -a [SAME_OF_A], --same-of-a [SAME_OF_A]\r\n",
      "                        -a needs no argument\r\n",
      "  -b B                  -b needs 1 arg\r\n",
      "  -c C C                -c needs 2 args\r\n",
      "  -d [D [D ...]]        -d accepts all arguments\r\n",
      "  --set-this-param-to= SET_THIS_PARAM_TO=\r\n",
      "                        instructions for --set-this-param-to\r\n"
     ]
    }
   ],
   "source": [
    "# no help was explicitly set, however... \n",
    "!python modules/parse_input_using_argparse.py --help"
   ]
  },
  {
   "cell_type": "markdown",
   "metadata": {
    "slideshow": {
     "slide_type": "slide"
    }
   },
   "source": [
    "## Modules and Packages\n",
    "\n",
    "* definitions in python files might be reused (i.e., imported) \n",
    " * those files are called modules\n",
    " * every python file is potentially a module\n",
    " * every module can be run as a script\n",
    "* global variable names are global within the module\n",
    "* modules have name, i.e. the file name without the suffix .py\n",
    "* module's name is assigned to the global variable \\__name\\__\n",
    " * when a module is run as a script, \\__name\\__ == \"\\__main\\__\"\n",
    "* --\n",
    "* a package is a module that contains other modules: any folder containing .py files can be a package\n",
    " * folders containing an \\__init\\__.py file (even empty) are packages for python \n",
    " * the \\__init\\__.py file prevents unintentionally hiding of names in the module search path\n",
    "* --\n",
    "* subpackages and submodules are packages and modules contained by other packages or modules "
   ]
  },
  {
   "cell_type": "markdown",
   "metadata": {
    "slideshow": {
     "slide_type": "subslide"
    }
   },
   "source": [
    "## Structure of a python Package\n",
    "\n",
    "```txt\n",
    "package/\n",
    "    __init__.py\n",
    "    module1.py\n",
    "    module2.py\n",
    "    subpackage/\n",
    "        __init__.py\n",
    "        submodule1.py\n",
    "        submodule2.py\n",
    "```\n",
    "* --\n",
    "* packages are structured modules using \"dotted module names\"\n",
    " * A.B: A is a package named A while B is a subpackage (or submodule) named B\n",
    "* \\__init\\__.py can just be an empty file or execute initialization code for the package or set the \\__all\\__ variable\n",
    " * \\__all\\__ variable is a list of module names that are imported when \n",
    " ```python\n",
    "from package import * \n",
    "```\n"
   ]
  },
  {
   "cell_type": "code",
   "execution_count": 51,
   "metadata": {
    "slideshow": {
     "slide_type": "subslide"
    }
   },
   "outputs": [
    {
     "name": "stdout",
     "output_type": "stream",
     "text": [
      "\u001b[01;34mmodules/myFirstPackage/\u001b[00m\r\n",
      "├── biggerModule.py\r\n",
      "├── import_usefulSubModule_from_subPackage1.py\r\n",
      "├── __init__.py\r\n",
      "├── __init__.pyc\r\n",
      "├── myFirstModule.py\r\n",
      "├── myFirstModule.pyc\r\n",
      "├── \u001b[01;34m__pycache__\u001b[00m\r\n",
      "│   ├── biggerModule.cpython-35.pyc\r\n",
      "│   ├── __init__.cpython-35.pyc\r\n",
      "│   └── myFirstModule.cpython-35.pyc\r\n",
      "├── runModuleAsScript.py\r\n",
      "├── \u001b[01;34msubPackage_1\u001b[00m\r\n",
      "│   ├── __init__.py\r\n",
      "│   ├── __init__.pyc\r\n",
      "│   ├── \u001b[01;34m__pycache__\u001b[00m\r\n",
      "│   │   ├── __init__.cpython-35.pyc\r\n",
      "│   │   └── usefulSubModule.cpython-35.pyc\r\n",
      "│   ├── usefulSubModule.py\r\n",
      "│   └── usefulSubModule.pyc\r\n",
      "├── \u001b[01;34msubPackage_2\u001b[00m\r\n",
      "│   ├── __init__.py\r\n",
      "│   ├── __init__.pyc\r\n",
      "│   ├── needs_subPackage_1.py\r\n",
      "│   ├── needs_subPackage_1.pyc\r\n",
      "│   └── \u001b[01;34m__pycache__\u001b[00m\r\n",
      "│       ├── __init__.cpython-35.pyc\r\n",
      "│       └── needs_subPackage_1.cpython-35.pyc\r\n",
      "└── \u001b[01;34msubPackage_3\u001b[00m\r\n",
      "    ├── __init__.py\r\n",
      "    ├── __init__.pyc\r\n",
      "    ├── needs_subPackage_1.py\r\n",
      "    ├── needs_subPackage_1.pyc\r\n",
      "    └── \u001b[01;34m__pycache__\u001b[00m\r\n",
      "        ├── __init__.cpython-35.pyc\r\n",
      "        └── needs_subPackage_1.cpython-35.pyc\r\n",
      "\r\n",
      "7 directories, 28 files\r\n"
     ]
    }
   ],
   "source": [
    "!tree modules/myFirstPackage/"
   ]
  },
  {
   "cell_type": "markdown",
   "metadata": {
    "slideshow": {
     "slide_type": "subslide"
    }
   },
   "source": [
    "## .pyc files and \\__pycache\\__ folder\n",
    "\n",
    "* what are .pyc files?\n",
    " * .pyc contain the compiled bytecode of Python source files\n",
    " * python interpreter prefers loading .pyc \n",
    "* a .pyc is created\n",
    " * only for an imported .py \n",
    " * only if its timestamp differs from .py 's \n",
    "* why .pyc?\n",
    " * the execution time would not change...\n",
    " * but loading time is shorter for a .pyc file \n",
    " * small scripts may spend more time in loading/compiling than in executing\n",
    "* \\__pycache\\__ was introduced in python3.2 to store the .pyc files\n",
    " * different python implementations store in there with different desinences (e.g., \"cpython-35\")\n",
    " * the .pyc file in the same folder of .py is the one loaded (it is a renamed copy for the proper python implementation)\n",
    "* -- \n",
    "* these files/folders can be safely deleted\n",
    "* there is no need to store them then...\n",
    " * ...add them on .gitignore "
   ]
  },
  {
   "cell_type": "markdown",
   "metadata": {
    "slideshow": {
     "slide_type": "subslide"
    }
   },
   "source": [
    "### [modules/myFirstPackage/myFirstModule.py](modules/myFirstPackage/myFirstModule.py)\n",
    "``` python\n",
    "def f0():\n",
    "    return f1() # f1 is in scope\n",
    "\n",
    "def f1():\n",
    "    return __name__\n",
    "```"
   ]
  },
  {
   "cell_type": "code",
   "execution_count": 52,
   "metadata": {
    "slideshow": {
     "slide_type": "subslide"
    }
   },
   "outputs": [
    {
     "name": "stdout",
     "output_type": "stream",
     "text": [
      "\n",
      "List imported modules: f0\t f1\t \n",
      "\n",
      "modules.myFirstPackage.myFirstModule\n"
     ]
    }
   ],
   "source": [
    "%reset -f\n",
    "from modules.myFirstPackage.myFirstModule import * # this means f0 and f1\n",
    "print('\\nList imported modules:',end=\" \")\n",
    "%who\n",
    "\n",
    "print(\"\\n\",f0(),sep=\"\")"
   ]
  },
  {
   "cell_type": "code",
   "execution_count": 5,
   "metadata": {
    "slideshow": {
     "slide_type": "subslide"
    }
   },
   "outputs": [
    {
     "name": "stdout",
     "output_type": "stream",
     "text": [
      "\n",
      "List imported modules: m1\t \n",
      "\n",
      "modules.myFirstPackage.myFirstModule\n"
     ]
    }
   ],
   "source": [
    "%reset -f\n",
    "import modules.myFirstPackage.myFirstModule as m1\n",
    "print('\\nList imported modules:',end=\" \")\n",
    "%who\n",
    "\n",
    "print(\"\\n\",m1.f0(),sep=\"\") # __name__ != \"__main__\" "
   ]
  },
  {
   "cell_type": "markdown",
   "metadata": {
    "slideshow": {
     "slide_type": "subslide"
    }
   },
   "source": [
    "## Run module as a script\n",
    "\n",
    "* \\__name\\__ changes to \"\\__main\\__\"\n",
    "\n",
    "### [modules/runModuleAsScript.py](modules/runModuleAsScript.py)\n",
    "``` python\n",
    "import myFirstModule as m\n",
    "\n",
    "def f0():\n",
    "    return __name__\n",
    "\n",
    "def f1():\n",
    "    return m.__name__\n",
    "\n",
    "if __name__ == \"__main__\": \n",
    "    print(\"this module's name is \"+f0())\n",
    "    print(\"sys module's name is \"+f1())\n",
    "```"
   ]
  },
  {
   "cell_type": "code",
   "execution_count": 6,
   "metadata": {
    "slideshow": {
     "slide_type": "subslide"
    }
   },
   "outputs": [
    {
     "name": "stdout",
     "output_type": "stream",
     "text": [
      "this module's name is __main__\r\n",
      "sys module's name is myFirstModule\r\n"
     ]
    }
   ],
   "source": [
    "! python modules/myFirstPackage/runModuleAsScript.py"
   ]
  },
  {
   "cell_type": "markdown",
   "metadata": {
    "slideshow": {
     "slide_type": "subslide"
    }
   },
   "source": [
    "## \\__all\\__ list \n",
    "\n",
    "* \\__all\\__ overrides * during import \n",
    "\n",
    "### [modules/myFirstPackage/biggerModule.py](modules/myFirstPackage/biggerModule.py)\n",
    "\n",
    "```python\n",
    "__all__=['f0'] \n",
    "\n",
    "def f0():\n",
    "    return \n",
    "\n",
    "def f1():\n",
    "    return \n",
    "\n",
    "def f2():\n",
    "    return \n",
    "```"
   ]
  },
  {
   "cell_type": "code",
   "execution_count": 7,
   "metadata": {
    "slideshow": {
     "slide_type": "subslide"
    }
   },
   "outputs": [
    {
     "name": "stdout",
     "output_type": "stream",
     "text": [
      "\n",
      "List imported modules: f0\t \n"
     ]
    }
   ],
   "source": [
    "%reset -f \n",
    "from modules.myFirstPackage.biggerModule import * # __all__ is imported\n",
    "print('\\nList imported modules:',end=\" \")\n",
    "%who\n"
   ]
  },
  {
   "cell_type": "markdown",
   "metadata": {
    "slideshow": {
     "slide_type": "subslide"
    }
   },
   "source": [
    "## Intra-package references\n",
    "\n",
    "* relative imports use a module's \\__name\\__ to determine module's position in the package hierarchy \n",
    "\n",
    "### [modules/myFirstPackage/subPackage_1/usefulSubModule.py](modules/myFirstPackage/subPackage_1/usefulSubModule.py)\n",
    "```python\n",
    "def usefulFunction():\n",
    "    return \"I can use this usefulFunction\"\n",
    "```\n",
    "### [modules/myFirstPackage/import_usefulSubModule_from_subPackage1.py](modules/myFirstPackage/import_usefulSubModule_from_subPackage1.py)\n",
    "```python\n",
    "import subPackage_1.usefulSubModule as sm\n",
    "\n",
    "if __name__ == \"__main__\": \n",
    "    print(sm.usefulFunction())\n",
    "```"
   ]
  },
  {
   "cell_type": "code",
   "execution_count": 56,
   "metadata": {
    "slideshow": {
     "slide_type": "subslide"
    }
   },
   "outputs": [
    {
     "name": "stdout",
     "output_type": "stream",
     "text": [
      "biggerModule.py\t\t\t\t    myFirstModule.py\t  subPackage_1\n",
      "import_usefulSubModule_from_subPackage1.py  myFirstModule.pyc\t  subPackage_2\n",
      "__init__.py\t\t\t\t    __pycache__\t\t  subPackage_3\n",
      "__init__.pyc\t\t\t\t    runModuleAsScript.py\n",
      "\n",
      "__init__.py  __init__.pyc  __pycache__\tusefulSubModule.py  usefulSubModule.pyc\n",
      "\n",
      "I can use this usefulFunction\n"
     ]
    }
   ],
   "source": [
    "!ls modules/myFirstPackage/\n",
    "print()\n",
    "!ls modules/myFirstPackage/subPackage_1/\n",
    "print()\n",
    "!python modules/myFirstPackage/import_usefulSubModule_from_subPackage1.py"
   ]
  },
  {
   "cell_type": "markdown",
   "metadata": {
    "slideshow": {
     "slide_type": "subslide"
    }
   },
   "source": [
    "## Issue while importing top packages \n",
    "\n",
    "* ValueError for relative import \n",
    " * scripts can't import relative because \\__name\\__ is \\__main\\__\n",
    " * relative import makes sense only for a package\n",
    "* place scripts that runs the module outside the package directory\n",
    "\n",
    "### [modules/myFirstPackage/subPackage_2/needs_subPackage_1.py](modules/myFirstPackage/subPackage_2/needs_subPackage_1.py)\n",
    "```python\n",
    "from ..subPackage_1 import usefulSubModule as s\n",
    "\n",
    "def f0():\n",
    "    return s.usefulFunction()\n",
    "\n",
    "if __name__ == \"__main__\":\n",
    "    print(f0())\n",
    "```\n",
    "\n",
    "### [modules/test_relative_paths.py ](modules/test_relative_paths.py )\n",
    "```python\n",
    "import myFirstPackage.subPackage_2.needs_subPackage_1 as s\n",
    "\n",
    "if __name__ == \"__main__\":\n",
    "    print(s.f0())\n",
    "```"
   ]
  },
  {
   "cell_type": "code",
   "execution_count": 57,
   "metadata": {
    "slideshow": {
     "slide_type": "-"
    }
   },
   "outputs": [
    {
     "name": "stdout",
     "output_type": "stream",
     "text": [
      "Traceback (most recent call last):\r\n",
      "  File \"modules/myFirstPackage/subPackage_2/needs_subPackage_1.py\", line 1, in <module>\r\n",
      "    from ..subPackage_1 import usefulSubModule as s\r\n",
      "ValueError: Attempted relative import in non-package\r\n"
     ]
    }
   ],
   "source": [
    "!python modules/myFirstPackage/subPackage_2/needs_subPackage_1.py"
   ]
  },
  {
   "cell_type": "code",
   "execution_count": 58,
   "metadata": {
    "slideshow": {
     "slide_type": "-"
    }
   },
   "outputs": [
    {
     "name": "stdout",
     "output_type": "stream",
     "text": [
      "I can use this usefulFunction\r\n"
     ]
    }
   ],
   "source": [
    "!python modules/test_relative_paths.py"
   ]
  },
  {
   "cell_type": "markdown",
   "metadata": {
    "slideshow": {
     "slide_type": "subslide"
    }
   },
   "source": [
    "## PYTHONPATH \n",
    "\n",
    "* default search path for module files\n",
    "* the format is the same as the shell’s PATH\n",
    " * one or more directory pathnames separated by os.pathsep\n",
    "* the search path can be manipulated from within a Python program as the variable sys.path \n",
    " * using modules os and sys you can add package path into subpackages and submodules\n",
    " \n",
    "### [modules/myFirstPackage/subPackage_3/needs_subPackage_1.py ](modules/myFirstPackage/subPackage_3/needs_subPackage_1.py )\n",
    "```python\n",
    "import os,sys\n",
    "file_path = os.path.abspath(__file__)\n",
    "this_subpackage_path = os.path.split(file_path)[0]\n",
    "this_package_path = os.path.join(this_subpackage_path,'../..')\n",
    "sys.path.insert(0, this_package_path)\n",
    "\n",
    "from myFirstPackage.subPackage_1 import usefulSubModule as s\n",
    "\n",
    "def f0():\n",
    "    return s.usefulFunction()\n",
    "if __name__ == \"__main__\":\n",
    "    print(f0())\n",
    "```"
   ]
  },
  {
   "cell_type": "code",
   "execution_count": null,
   "metadata": {
    "slideshow": {
     "slide_type": "-"
    }
   },
   "outputs": [],
   "source": [
    "!python modules/myFirstPackage/subPackage_3/needs_subPackage_1.py"
   ]
  },
  {
   "cell_type": "markdown",
   "metadata": {
    "slideshow": {
     "slide_type": "slide"
    }
   },
   "source": [
    "## Functional programming paradigm \n",
    "\n",
    "* a sequence is any iterable object \n",
    " * iterables are objects that contain an \\__iter\\__ or \\__getitem\\__ method\n",
    " * you can retreive an iterable using an iterator\n",
    " * iterators are objects that define a \\__next\\__ method\n",
    "* a container is an iterable, hence a sequence (the reverse is not true)\n",
    "* ex: range(0,1e10) does not return a container but an iterable: \n",
    " * it does not contain 1e10 elements!\n",
    " * it generates the value one after the other\n",
    "* --\n",
    "* this paradigm is based on three built-in functions\n",
    " * filter(cond,seq): applies a condition to a sequence\n",
    " * map(fun,seq): applies a function to all elements of a sequence\n",
    " * functools.reduce(fun,seq): applies function of two arguments to the items of a sequence\n",
    "* filter and map return iterables (not lists or tuples)\n",
    "* functools.reduce returns a single value\n",
    "* advantage: the order of execution is not important"
   ]
  },
  {
   "cell_type": "code",
   "execution_count": 18,
   "metadata": {
    "slideshow": {
     "slide_type": "subslide"
    }
   },
   "outputs": [
    {
     "name": "stdout",
     "output_type": "stream",
     "text": [
      "l:       \n",
      "  [0, 1, 2, 3, 4, 5, 6, 7, 8, 9]\n",
      "l%2:     \n",
      "  [1, 3, 5, 7, 9]\n",
      "l<5:     \n",
      "  [0, 1, 2, 3, 4]\n",
      "el%2:    \n",
      "  [0, 1, 0, 1, 0, 1, 0, 1, 0, 1]\n",
      "el<5:    \n",
      "  [True, True, True, True, True, False, False, False, False, False]\n",
      "el<el+1: \n",
      "  [True, True, True, True, True, True, True, True, True, True]\n",
      "sum(el): \n",
      "  45\n"
     ]
    }
   ],
   "source": [
    "%reset -f\n",
    "import functools\n",
    "l  = list(range(10))               # 0,1,...,9\n",
    "l2 = list(filter(lambda x: x%2,l)) # 1,3,5,7,9\n",
    "l3 = list(filter(lambda x: x<5,l)) # 1,2,3,4,5\n",
    "l4 = list(map(lambda x: x%2,l))  # 10 elements 1 or 0\n",
    "l5 = list(map(lambda x: x<5,l))  # 10 elements True or False\n",
    "lp1 = list(map(lambda x: x+1,l)) # 10 elements l+1\n",
    "l6 = list(map(lambda x,y: x<y,l,lp1)) # 10 elements all True\n",
    "l7 = functools.reduce(lambda x,y: x+y,l) # y is next(x)\n",
    "\n",
    "print('l:       \\n  {}'.format(l))\n",
    "print('l%2:     \\n  {}'.format(l2))\n",
    "print('l<5:     \\n  {}'.format(l3))\n",
    "print('el%2:    \\n  {}'.format(l4))\n",
    "print('el<5:    \\n  {}'.format(l5))\n",
    "print('el<el+1: \\n  {}'.format(l6))\n",
    "print('sum(el): \\n  {}'.format(l7))"
   ]
  },
  {
   "cell_type": "markdown",
   "metadata": {
    "slideshow": {
     "slide_type": "slide"
    }
   },
   "source": [
    "## Comprehensions\n",
    "\n",
    "* python can implement expressions that allow sequences to be built from other sequences\n",
    "* comprehensions consist of: \n",
    " * input sequence\n",
    " * variable representing members of the input sequence\n",
    " * optional predicate expression\n",
    " * output expression producing an output sequence\n",
    "* comprehensions can be made with: \n",
    " * list, nested list, set, dictionaries\n",
    " * generators (or generator comprehension)"
   ]
  },
  {
   "cell_type": "code",
   "execution_count": 65,
   "metadata": {
    "slideshow": {
     "slide_type": "subslide"
    }
   },
   "outputs": [
    {
     "name": "stdout",
     "output_type": "stream",
     "text": [
      "[2, 5, 4, 7, 6, 9]\n",
      "[5, 7, 6, 9]\n"
     ]
    }
   ],
   "source": [
    "%reset -f\n",
    "l1 = [0,1,2,3,4,5]\n",
    "l2 = [2,4,2,4,2,4]\n",
    "l1_p_l2 = [x+y for x,y in zip(l1,l2)] # list comprehension\n",
    "l1_p_l2_ = [x+y for x,y in zip(l1,l2) if x+y>4] # with predicate\n",
    "print(l1_p_l2)\n",
    "print(l1_p_l2_)"
   ]
  },
  {
   "cell_type": "code",
   "execution_count": 48,
   "metadata": {
    "slideshow": {
     "slide_type": "subslide"
    }
   },
   "outputs": [
    {
     "name": "stdout",
     "output_type": "stream",
     "text": [
      "\n",
      "v12[i]=1 if l1[i]=l2[i]\n",
      " ->  [0, 1, 0]\n",
      "\n",
      "m12[i][j]=1 if l1[i]=l2[j]\n",
      " ->  [[0, 0, 0], [0, 1, 0], [0, 0, 0]]\n"
     ]
    }
   ],
   "source": [
    "%reset -f\n",
    "l1 = [1,2,3]\n",
    "l2 = [0,2,4]\n",
    "# list comprehension\n",
    "v12 = [1 if i==j else 0 for i,j in zip(l1,l2)] # i==j vector 1 or 0\n",
    "# list comprehension can be nested\n",
    "m12 = [[1 if i==j else 0 for i in l1]\\\n",
    "                         for j in l2] # i==j matrix 1 or 0\n",
    "print(\"\\nv12[i]=1 if l1[i]=l2[i]\\n -> \", v12)\n",
    "print(\"\\nm12[i][j]=1 if l1[i]=l2[j]\\n -> \", m12)"
   ]
  },
  {
   "cell_type": "code",
   "execution_count": 51,
   "metadata": {
    "slideshow": {
     "slide_type": "subslide"
    }
   },
   "outputs": [
    {
     "name": "stdout",
     "output_type": "stream",
     "text": [
      "{'Minnie', 'Mickey'}\n"
     ]
    }
   ],
   "source": [
    "%reset -f\n",
    "names = ['Mickey','Minnie','Donald','Daisy','Goofy','Pluto']\n",
    "# set comprehension\n",
    "m_char_set = {name for name in names if name[0]=='M'} # M* characters\n",
    "print(m_char_set)"
   ]
  },
  {
   "cell_type": "code",
   "execution_count": 67,
   "metadata": {
    "slideshow": {
     "slide_type": "subslide"
    }
   },
   "outputs": [
    {
     "name": "stdout",
     "output_type": "stream",
     "text": [
      "{'Daisy', 'Donald'}\n"
     ]
    }
   ],
   "source": [
    "%reset -f\n",
    "names = {'Mickey':'mouse','Minnie':'mouse',\\\n",
    "         'Donald':'duck','Daisy':'duck',\\\n",
    "         'Goofy':'dog','Pluto':'dog'}\n",
    "# dictionary comprehension\n",
    "ducks_char_dict = {name for name in names if names[name]=='duck'}\n",
    "print(ducks_char_dict)"
   ]
  },
  {
   "cell_type": "markdown",
   "metadata": {
    "slideshow": {
     "slide_type": "subslide"
    }
   },
   "source": [
    "## Generator comprehension\n",
    "\n",
    "* generators are iterators that: \n",
    " * can be iterated only once \n",
    " * do not store values\n",
    " * generate values on the fly  "
   ]
  },
  {
   "cell_type": "code",
   "execution_count": 75,
   "metadata": {
    "slideshow": {
     "slide_type": "-"
    }
   },
   "outputs": [
    {
     "name": "stdout",
     "output_type": "stream",
     "text": [
      "squares is <generator object <genexpr> at 0x7f633aebe780> of type <class 'generator'>\n",
      "1st loop over squares -> [0, 1, 4, 9, 16, 25, 36, 49, 64, 81]\n",
      "2nd loop over squares -> []\n"
     ]
    }
   ],
   "source": [
    "%reset -f\n",
    "squares = (x*x for x in range(10))\n",
    "print(\"squares is\",squares,\"of type\", type(squares))\n",
    "print(\"1st loop over squares ->\",[i for i in squares])\n",
    "print(\"2nd loop over squares ->\",[i for i in squares])"
   ]
  },
  {
   "cell_type": "markdown",
   "metadata": {
    "slideshow": {
     "slide_type": "subslide"
    }
   },
   "source": [
    "## next keyword\n",
    "\n",
    "* retrieve the next item from an iterator by calling its \\__next\\__() method"
   ]
  },
  {
   "cell_type": "code",
   "execution_count": 102,
   "metadata": {
    "slideshow": {
     "slide_type": "-"
    }
   },
   "outputs": [
    {
     "name": "stdout",
     "output_type": "stream",
     "text": [
      "0\n",
      "1\n",
      "4\n",
      "[]\n"
     ]
    }
   ],
   "source": [
    "%reset -f\n",
    "squares = (x*x for x in range(3))\n",
    "print(next(squares))\n",
    "print(next(squares))\n",
    "print(next(squares))\n",
    "print([i for i in squares])     "
   ]
  },
  {
   "cell_type": "markdown",
   "metadata": {
    "slideshow": {
     "slide_type": "subslide"
    }
   },
   "source": [
    "## yield keyword\n",
    "\n",
    "* can be used only in the body of a function definition\n",
    "* causes the function to return a generator \n",
    "* yield vs return\n",
    " * return transfers the control of execution to the point where the function was called\n",
    " * yield implies that the tranfere of control is temporary and voluntary\n",
    " * functions yield when they expects to regain control in the future\n",
    " * function with these capabilities are called generators\n",
    "* conceptually it performs the opposite operation of next(): \n",
    " * next retrieves an item and removes it from the generator\n",
    " * yield accumulates an item in the generator, ready to be iterated\n",
    " \n",
    "## Subroutines vs coroutines\n",
    "\n",
    "* functions that return can also be referred to as subroutines\n",
    " * subroutines returns the result in once\n",
    "* functions that yield can also be referred to as coroutines (or generators in python)\n",
    " * coroutines yield the result one value at a time\n",
    "* coroutines should be preferred when\n",
    " * values to return are too many to be stored\n",
    " * there is no need to read those values twice"
   ]
  },
  {
   "cell_type": "code",
   "execution_count": 113,
   "metadata": {
    "slideshow": {
     "slide_type": "-"
    }
   },
   "outputs": [
    {
     "name": "stdout",
     "output_type": "stream",
     "text": [
      "odds is [1, 3, 5, 7, 9] of type <class 'list'>\n",
      "1st loop over odds -> [1, 3, 5, 7, 9]\n",
      "2nd loop over odds -> [1, 3, 5, 7, 9]\n"
     ]
    }
   ],
   "source": [
    "%reset -f\n",
    "def odd_numbers(numbers):\n",
    "    odds = []\n",
    "    for x in numbers: \n",
    "        if x%2!=0:\n",
    "            odds.append(x)\n",
    "    return odds # odds contains ALL odd numbers\n",
    "\n",
    "odds = odd_numbers(range(10))       \n",
    "print(\"odds is\",odds,\"of type\", type(odds))\n",
    "print(\"1st loop over odds ->\",[i for i in odds])\n",
    "print(\"2nd loop over odds ->\",[i for i in odds])"
   ]
  },
  {
   "cell_type": "code",
   "execution_count": 114,
   "metadata": {
    "slideshow": {
     "slide_type": "-"
    }
   },
   "outputs": [
    {
     "name": "stdout",
     "output_type": "stream",
     "text": [
      "odds is <generator object odd_numbers at 0x7f635006a150> of type <class 'generator'>\n",
      "1st loop over odds -> [1, 3, 5, 7, 9]\n",
      "2nd loop over odds -> []\n"
     ]
    }
   ],
   "source": [
    "%reset -f\n",
    "def odd_numbers(numbers):\n",
    "    for x in numbers:\n",
    "        if x%2!=0:\n",
    "            yield x # x is one odd number \n",
    "            \n",
    "odds = odd_numbers(range(10))  \n",
    "print(\"odds is\",odds,\"of type\", type(odds))\n",
    "print(\"1st loop over odds ->\",[i for i in odds])\n",
    "print(\"2nd loop over odds ->\",[i for i in odds])"
   ]
  },
  {
   "cell_type": "markdown",
   "metadata": {
    "slideshow": {
     "slide_type": "slide"
    }
   },
   "source": [
    "## Python scopes and namespaces\n",
    "\n",
    "\n",
    "* a namespace is a mapping from names to objects\n",
    "* a namespace can be implemented in different ways\n",
    " * currently most are implemented as dictionaries\n",
    "* there is no relation between names in different namespaces\n",
    "* a.b: b is an attribute of the object a\n",
    " * attributes can be read-only or writable\n",
    " * attributes may be deleted with del statement\n",
    "* --\n",
    "* namespaces are created at different times \n",
    "* namespaces can have different lifetimes\n",
    " * built-in names are contained in a namespace created at interpreter start up and never deleted\n",
    " * global namespace for a module \n",
    "* local namespace for a function is created at the function call\n",
    " * and forgotten when the function exit (i.e., return or raise an exception)\n",
    "* --\n",
    "* a scope is a textual region where an unqualified reference to a name attempts to find the name in the namespace\n",
    "* scopes are determined statically but used dynamically\n",
    " * local names, non-local non-global names, global names, built-in names "
   ]
  },
  {
   "cell_type": "code",
   "execution_count": 170,
   "metadata": {
    "slideshow": {
     "slide_type": "subslide"
    }
   },
   "outputs": [
    {
     "name": "stdout",
     "output_type": "stream",
     "text": [
      "local assignment leaves var unchanged\n",
      "nonlocal assignment makes var change\n",
      "global assignment does not change var value in current scope\n",
      "global assignment changes var value in global scope\n"
     ]
    }
   ],
   "source": [
    "%reset -f\n",
    "# scope names\n",
    "def scope_test():\n",
    "    def do_local():\n",
    "        var = \"local\"\n",
    "\n",
    "    def do_nonlocal():\n",
    "        nonlocal var\n",
    "        var = \"change\"\n",
    "\n",
    "    def do_global():\n",
    "        global var\n",
    "        var = \"changes var value\"\n",
    "\n",
    "    var = \"unchanged\"\n",
    "    do_local()\n",
    "    print(\"local assignment leaves var\", var)\n",
    "    do_nonlocal()\n",
    "    print(\"nonlocal assignment makes var\", var)\n",
    "    do_global()\n",
    "    print(\"global assignment does not\", var,\"var value in current scope\")\n",
    "    \n",
    "scope_test()\n",
    "print(\"global assignment\", var,\"in global scope\")"
   ]
  },
  {
   "cell_type": "markdown",
   "metadata": {
    "slideshow": {
     "slide_type": "slide"
    }
   },
   "source": [
    "## Object Oriented Programming in Python\n",
    "\n",
    "* a class is a mean to bundle data and functionalities together \n",
    " * each class instance has attributes attached to it for maintaining its state\n",
    " * each class instance has methodes fot modifying its states\n",
    " * creating a new class creates a new type of object\n",
    "* objects can contain arbitrary amounts and kinds of data\n",
    "* classes are created at runtime and can be modified after creation\n",
    "\n",
    "\n",
    "## Differences from C++ \n",
    "\n",
    "* interpreted language\n",
    " * clang programs are static determined at compile-time \n",
    " * python programs are interpreted at run-time \n",
    "* static vs dynamic typed language\n",
    " * variable's type is clear in clang, not in python because var type can change\n",
    "* memory management \n",
    " * python is a language, implementations may differ\n",
    " * in CPython anything is an object and all objects live on the heap\n",
    " * only names are stored in the stack\n",
    "* built-in types can be used as base classes for extension\n",
    "* all methods in python are effectively virtual\n",
    "* private members don't exist in python\n",
    " * nothing makes it possible to enforce data hiding, you can mess up with names\n",
    " * classes are not usable to implement pure abstract data types\n",
    " * it is all based upon conventions (e.g., name mangling for non-public attributes)"
   ]
  },
  {
   "cell_type": "markdown",
   "metadata": {
    "slideshow": {
     "slide_type": "subslide"
    }
   },
   "source": [
    "## Class definition syntax\n",
    "```python\n",
    "class ClassName(<base_class>):\n",
    "    <statement-1>\n",
    "    .\n",
    "    <statement-N>\n",
    "```\n",
    "\n",
    "* when a class definition is entered a new namespace is created and used as local scope\n",
    " * all assignments to local variables go into this new namespace\n",
    " * self.name refers to the name of this new namespace \n",
    "* class support two operations: \n",
    " * obj.name: attribute references (as for namespace)\n",
    " * inst = obj(): class instantiation to create a new instance of the class  \n",
    "* base_class: the class from which ClassName inherits all references \n",
    "* object keyword: basic object in python\n",
    " * in python 2.x inheriting from object includes perks\n",
    " * in python 3.x all classes inherits from objects by default\n",
    " * for code compatibility it is suggested to explicitly inherit from object\n",
    "\n",
    "## Special attributes\n",
    "\n",
    "* \\__init\\__(self\\[,...\\]): automatically invoked by class instantiation (i.e., the constructor)\n",
    "* \\__del\\__(self): automatically invoked when the object should be destroyed (i.e., the destructor) \n",
    "* \\__doc\\__: docstring of the class\n",
    "* \\__class\\__: reference to the type of the current instance\n",
    "* \\__str\\__(self): called by print(obj)\n",
    "* \\__repr\\__(self): substitues \\__str\\__(self)\n",
    "* \\__bases\\__: tuple with all base classes"
   ]
  },
  {
   "cell_type": "code",
   "execution_count": 101,
   "metadata": {
    "slideshow": {
     "slide_type": "subslide"
    }
   },
   "outputs": [
    {
     "name": "stdout",
     "output_type": "stream",
     "text": [
      "\n",
      "delete this class\n",
      "\n",
      "\n",
      "create this class\n",
      "\n",
      "f1 was called\n",
      "docstring is \n",
      "    a docstring creates __doc__ attribute\n",
      "    here you can place the documentation\n",
      "    \n",
      "print(o) calls o.__str__() \n",
      "    a docstring creates __doc__ attribute\n",
      "    here you can place the documentation\n",
      "    \n",
      "True\n",
      "2\n",
      "type object 'myClass' has no attribute 'j'\n",
      "\n",
      "delete this class\n",
      "\n"
     ]
    }
   ],
   "source": [
    "%reset -f\n",
    "class myClass(object):\n",
    "    \"\"\"\n",
    "    a docstring creates __doc__ attribute\n",
    "    here you can place the documentation\n",
    "    \"\"\"\n",
    "    i=1\n",
    "    def __init__(self):\n",
    "        self.j = 2\n",
    "        print(\"\\ncreate this class\\n\")\n",
    "    def __del__(self):\n",
    "        print(\"\\ndelete this class\\n\")\n",
    "    def f1(saelf):\n",
    "        print(\"f1 was called\")\n",
    "    def __str__(self): # automatically called by print\n",
    "        return self.__doc__\n",
    "\n",
    "def do_stuff():        \n",
    "    o = myClass()\n",
    "    o.f1()\n",
    "    print(\"docstring is\",o.__doc__)\n",
    "    print(\"print(o) calls o.__str__()\",o)\n",
    "    print(o.__class__.i == o.i)\n",
    "    print(o.j)\n",
    "    try: \n",
    "        print(o.__class__.j)\n",
    "    except AttributeError as err:\n",
    "        print(err)\n",
    "\n",
    "do_stuff()    "
   ]
  },
  {
   "cell_type": "markdown",
   "metadata": {
    "slideshow": {
     "slide_type": "subslide"
    }
   },
   "source": [
    "## Method objects\n",
    "\n",
    "* the first argument in method definition links the object itself (i.e., the C++ this)\n",
    " * using self for this argument is just a (very common) convention \n",
    " * this argument should not be passed to method, if the method definition is inside the class statement\n",
    "* a method with no arguments cannot be called by the class instances\n",
    " * can be used just by the class itself (i.e., \\__class\\__)\n",
    "* methods (functions in general) can be assigned to a name"
   ]
  },
  {
   "cell_type": "code",
   "execution_count": 148,
   "metadata": {
    "slideshow": {
     "slide_type": "subslide"
    }
   },
   "outputs": [
    {
     "name": "stdout",
     "output_type": "stream",
     "text": [
      "1\n"
     ]
    }
   ],
   "source": [
    "%reset -f\n",
    "class dumb(object):\n",
    "    def __init__(justaname,x): justaname.x=x\n",
    "    def __str__(justaname): return str(justaname.x)\n",
    "\n",
    "d = dumb(1)\n",
    "print(d)"
   ]
  },
  {
   "cell_type": "code",
   "execution_count": 187,
   "metadata": {
    "slideshow": {
     "slide_type": "subslide"
    }
   },
   "outputs": [
    {
     "name": "stdout",
     "output_type": "stream",
     "text": [
      "f0 was invoked\n",
      "      err:  f1() takes 0 positional arguments but 1 was given\n",
      "f1() is not callable outside of the class\n",
      "f1 can be invoked inside the class\n",
      "      err:  name 'f1' is not defined\n",
      "NO WAY: f1() is not callable outside of the class\n",
      "f1 can be invoked inside the class\n"
     ]
    }
   ],
   "source": [
    "%reset -f\n",
    "class dumb(object):\n",
    "    def f0(self): return \"f0 was invoked\"      \n",
    "    def f1(): return \"f1 can be invoked inside the class\"\n",
    "    f2 = f1()\n",
    "    def f3(self): return f1()\n",
    "    \n",
    "d = dumb()\n",
    "print(d.f0())\n",
    "try: \n",
    "    print(d.f1())\n",
    "except TypeError as err:\n",
    "    print(\"      err: \",err)   \n",
    "    print(\"f1() is not callable outside of the class\")\n",
    "print(d.f2)\n",
    "try: \n",
    "    print(d.f3())\n",
    "except NameError as err:\n",
    "    print(\"      err: \",err)   \n",
    "    print(\"NO WAY: f1() is not callable outside of the class\")\n",
    "print(dumb.f1())"
   ]
  },
  {
   "cell_type": "code",
   "execution_count": 188,
   "metadata": {
    "slideshow": {
     "slide_type": "subslide"
    }
   },
   "outputs": [
    {
     "name": "stdout",
     "output_type": "stream",
     "text": [
      "<bound method dumb.f0 of <__main__.dumb object at 0x7f1c246a3828>>\n",
      "<bound method dumb.f0 of <__main__.dumb object at 0x7f1c246a3828>>\n",
      "<bound method dumb.f0 of <__main__.dumb object at 0x7f1c246a3828>>\n",
      "f0 was invoked\n",
      "f0 was invoked\n",
      "f0 was invoked\n"
     ]
    }
   ],
   "source": [
    "%reset -f\n",
    "class dumb(object):\n",
    "    def f0(self): return \"f0 was invoked\"          \n",
    "    \n",
    "d = dumb()    \n",
    "f01=d.f0    # f01 returns the method d.f0\n",
    "f02=d.f0()  # f02 invokes d.f0\n",
    "for i in range(3):\n",
    "    print(f01)\n",
    "for i in range(3):\n",
    "    print(f02)    "
   ]
  },
  {
   "cell_type": "markdown",
   "metadata": {
    "slideshow": {
     "slide_type": "subslide"
    }
   },
   "source": [
    "## Class and Instance variables\n",
    "\n",
    "* instance variables are for data unique to each instance\n",
    "* class variables are shared by all instances of the class"
   ]
  },
  {
   "cell_type": "code",
   "execution_count": 189,
   "metadata": {
    "slideshow": {
     "slide_type": "-"
    }
   },
   "outputs": [
    {
     "name": "stdout",
     "output_type": "stream",
     "text": [
      "defined 0 as num\n",
      "defined 1 as num\n"
     ]
    }
   ],
   "source": [
    "class num(object):\n",
    "    kind='num'                                   # kind is the same for all instances\n",
    "    def __init__(self,value=0): self.value=value # value is different for any instance\n",
    "    def __str__(self): return \"defined \"+str(self.value)+\" as \"+self.kind\n",
    "\n",
    "_0 = num(0)\n",
    "_1 = num(1)\n",
    "print(_0)\n",
    "print(_1)"
   ]
  },
  {
   "cell_type": "markdown",
   "metadata": {
    "slideshow": {
     "slide_type": "subslide"
    }
   },
   "source": [
    "## Overload operators\n",
    "\n",
    "Math operators\n",
    "* \\__add\\__(self, other): +\n",
    "* \\__mul\\__(self, other): *\n",
    "* \\__sub\\__(self, other): -\n",
    "* \\__mod\\__(self, other): %\n",
    "* \\__truediv\\__(self, other): /\n",
    "* -- \n",
    "Comparison operators\n",
    "* \\__eq\\__(self, other): ==\n",
    "* \\__ne\\__(self, other): !=\n",
    "* \\__lt\\__(self, other): <\n",
    "* \\__le\\__(self, other): <=\n",
    "* \\__gt\\__(self, other): >\n",
    "* \\__ge\\__(self, other): >= \n",
    "* --\n",
    "Others\n",
    "* \\__len\\__(self): len \n",
    "* \\__bool\\__(self): invoked by if statement of bool function  \n",
    "* \\__nonzero\\__(self): as \\__bool\\__(self) for python2\n",
    "* \\__iter\\__(self): invoked by loops\n",
    "* \\__contains\\__(self, value): invoked by in\n",
    "* \\__getitem\\__(self, key): invoked by reading obj\\[key\\]\n",
    "* \\__setitem\\__(self, key,value): invoked by writing obj\\[key\\]\n",
    "* \\__delitem\\__(self, key): invoked by deleting obj\\[key\\]"
   ]
  },
  {
   "cell_type": "code",
   "execution_count": 1,
   "metadata": {
    "slideshow": {
     "slide_type": "subslide"
    }
   },
   "outputs": [
    {
     "name": "stdout",
     "output_type": "stream",
     "text": [
      "False\n",
      "unsupported operand type(s) for +: 'mynum' and 'mynum'\n",
      "a is one number, len(a) is 1\n",
      "__bool__ was invoked by if\n"
     ]
    }
   ],
   "source": [
    "%reset -f\n",
    "class mynum(object):\n",
    "    def __init__(self,value):\n",
    "        self.value = value\n",
    "    def __eq__(self,other):\n",
    "        return self.value>other.value\n",
    "    def __len__(self):\n",
    "        return 1\n",
    "    def __bool__(self): \n",
    "        print(\"__bool__ was invoked\",end=\" \")\n",
    "        return True\n",
    "    __nonzero__=__bool__ # compatible with python2\n",
    "a = mynum(1)\n",
    "b = mynum(2)\n",
    "print(a==b) #1==2: False\n",
    "try:\n",
    "    print(a+b) #1+2: Undefined!\n",
    "except TypeError as err:\n",
    "    print(err)\n",
    "print(\"a is one number, len(a) is\",len(a))    \n",
    "if a: print(\"by if\")"
   ]
  },
  {
   "cell_type": "code",
   "execution_count": 5,
   "metadata": {
    "slideshow": {
     "slide_type": "subslide"
    }
   },
   "outputs": [
    {
     "name": "stdout",
     "output_type": "stream",
     "text": [
      "l is <class '__main__.mylist'>\n",
      "[0, 1, 2, 3, 4, 5]\n",
      "3\n",
      "-3\n",
      "0;1;2;4;5;\n",
      "len(l): 5\n"
     ]
    }
   ],
   "source": [
    "%reset -f\n",
    "class mylist(object):\n",
    "    def __init__(self,l=[]): self.list=l\n",
    "    def __len__(self): return len(self.list)\n",
    "    def __setitem__(self,key,value): self.list[key]=value\n",
    "    def __getitem__(self,key): return self.list[key]\n",
    "    def __delitem__(self,key): self.list=self.list[0:key]+self.list[key+1:]\n",
    "    def __iter__(self): return self.list.__iter__()\n",
    "    def __contains__(self,value): return value in self.list\n",
    "    def __str__(self): return str(self.list)\n",
    "    def append(self,*args): [self.list.append(arg) for arg in args]\n",
    "\n",
    "l = mylist([0,1,2]) # use __init__\n",
    "print('l is',type(l))\n",
    "l.append(3,4,5) # use append\n",
    "print(l)    # use __str__\n",
    "print(l[3]) # use __getitem__ and __str__\n",
    "l[3]=-3     # use __setitem__\n",
    "print(l[3]) \n",
    "del l[3]    # use __delitem__\n",
    "for i in l: # use __iter__ and __contains__\n",
    "    print(i,end=';')\n",
    "print(\"\\nlen(l):\",len(l)) # use __len__ and __str__"
   ]
  },
  {
   "cell_type": "markdown",
   "metadata": {
    "slideshow": {
     "slide_type": "subslide"
    }
   },
   "source": [
    "## Important remarks \n",
    "\n",
    "* attributes can be defined outside of the class statement\n",
    " * users can add new attributes that were not defined by developers\n",
    "* attributes can be overriden!!\n",
    " * developers should avoid name conflicts\n",
    " * users should use data attributes with care\n",
    "* methods is an attribute: it can also be defined outside of the class statement\n",
    " * methods defined inside override methods defined outside\n",
    " * last inside definitions override previous definitions\n",
    " * data attributes override method attributes "
   ]
  },
  {
   "cell_type": "code",
   "execution_count": 274,
   "metadata": {
    "slideshow": {
     "slide_type": "subslide"
    }
   },
   "outputs": [
    {
     "name": "stdout",
     "output_type": "stream",
     "text": [
      "e.attr1 = 1\n",
      "e.attr2 = attr2\n"
     ]
    }
   ],
   "source": [
    "%reset -f \n",
    "class empty(object): \n",
    "    pass # this class is empty\n",
    "         # still a user could add new attributes \n",
    "\n",
    "e = empty()\n",
    "pre_obj_attr = dir(e)\n",
    "e.attr1=1         # user is defining a new attribute \n",
    "e.attr2='attr2'   # user is defining a new attribute\n",
    "post_obj_attr = dir(e)\n",
    "for i in post_obj_attr:       # loop objects...\n",
    "    if i not in pre_obj_attr: # ...and check if they are new\n",
    "        e_str = 'e.'+str(i)\n",
    "        print(e_str,\"=\",eval(e_str))"
   ]
  },
  {
   "cell_type": "code",
   "execution_count": 249,
   "metadata": {
    "slideshow": {
     "slide_type": "subslide"
    }
   },
   "outputs": [
    {
     "name": "stdout",
     "output_type": "stream",
     "text": [
      "f() is defined outside\n",
      "you need to pass the object to g():\n",
      "\terror: g() missing 1 required positional argument: 'self'\n",
      "g() is defined outside\n"
     ]
    }
   ],
   "source": [
    "%reset -f \n",
    "def f(self): return \"f() is defined outside\"  # methods can be defined outside the class statement\n",
    "class dumb(object): \n",
    "    f_in=f # f is assigned to f_in\n",
    "    pass\n",
    "def g(self): return \"g() is defined outside\"  # methods can be defined outside the class statement\n",
    "\n",
    "d = dumb()\n",
    "d.g = g\n",
    "print(d.f_in())  # self is not needed, f_in belongs to the object d\n",
    "try:\n",
    "    print(d.g()) # this raise a TypeError\n",
    "except TypeError as err:\n",
    "    print(\"you need to pass the object to g():\",end=\"\\n\\t\")\n",
    "    print(\"error:\",err)          \n",
    "print(d.g(d))    # self is needed, g does not belong to the object d "
   ]
  },
  {
   "cell_type": "code",
   "execution_count": 226,
   "metadata": {
    "slideshow": {
     "slide_type": "subslide"
    }
   },
   "outputs": [
    {
     "name": "stdout",
     "output_type": "stream",
     "text": [
      "inside\n"
     ]
    }
   ],
   "source": [
    "%reset -f \n",
    "def f(self): return \"outside\" \n",
    "class dumb(object):    \n",
    "    def f(self): return \"inside\" # methods defined inside override methods defined outside \n",
    "\n",
    "d = dumb()\n",
    "print(d.f()) # invokes the inside definition"
   ]
  },
  {
   "cell_type": "code",
   "execution_count": 227,
   "metadata": {
    "slideshow": {
     "slide_type": "subslide"
    }
   },
   "outputs": [
    {
     "name": "stdout",
     "output_type": "stream",
     "text": [
      "2\n"
     ]
    }
   ],
   "source": [
    "%reset -f \n",
    "class dumb(object):        \n",
    "    def f(self): return 1 \n",
    "    def f(self): return 2 # last inside definitions override previous definitions\n",
    "    \n",
    "d = dumb()\n",
    "print(d.f())"
   ]
  },
  {
   "cell_type": "code",
   "execution_count": 208,
   "metadata": {
    "slideshow": {
     "slide_type": "subslide"
    }
   },
   "outputs": [
    {
     "name": "stdout",
     "output_type": "stream",
     "text": [
      "type(d.method_or_string) is.... <class 'method'>\n",
      "type(d.int_or_fun) is.......... <class 'int'>\n"
     ]
    }
   ],
   "source": [
    "%reset -f \n",
    "class dumb(object):    \n",
    "    method_or_string='something else'\n",
    "    def method_or_string(self): return y  # last inside definitions override previous definitions\n",
    "    def int_or_method(self): pass       \n",
    "    int_or_fun=10                         # last inside definitions override previous definitions\n",
    "        \n",
    "d = dumb()\n",
    "print(\"type(d.method_or_string) is....\",type(d.method_or_string))\n",
    "print(\"type(d.int_or_fun) is..........\",type(d.int_or_fun))"
   ]
  },
  {
   "cell_type": "code",
   "execution_count": 248,
   "metadata": {
    "slideshow": {
     "slide_type": "subslide"
    }
   },
   "outputs": [
    {
     "name": "stdout",
     "output_type": "stream",
     "text": [
      "~~~~f is a method~~~~\n",
      "<class 'method'>: no error\n",
      "~~~~f is a data~~~~\n",
      "<class 'str'>: 'str' object is not callable\n",
      "<class 'str'>: 'str' object is not callable\n",
      "<class 'str'>: 'str' object is not callable\n"
     ]
    }
   ],
   "source": [
    "%reset -f \n",
    "class dumb(object):    \n",
    "    def f(self): self.f=\"overriden\"  # data attributes override method attributes\n",
    "\n",
    "d = dumb()\n",
    "for i in range(4):\n",
    "    if i==0: print(\"~~~~f is a method~~~~\")\n",
    "    if i==1: print(\"~~~~f is a data~~~~\")\n",
    "    try:\n",
    "        print(type(d.f),end=\": \")\n",
    "        d.f()\n",
    "        print(\"no error\")\n",
    "    except TypeError as err:\n",
    "        print(err)        "
   ]
  },
  {
   "cell_type": "markdown",
   "metadata": {
    "slideshow": {
     "slide_type": "subslide"
    }
   },
   "source": [
    "## Inheritance \n",
    "\n",
    "* a new class can inherit attributes from one or more \"base\" classes\n",
    " * this new class is called derived class\n",
    " * the base class must be in a scope containing the derived class\n",
    "* if a requested attribute is not found in the class, the search proceeds to look in the base class   \n",
    " * this rule is applied recursively if base classe is derived itself\n",
    "* a derived class can override methods of a base class\n",
    " * a method of a base class may end up calling a method of a derived class\n",
    " * this behaviour is equivalent to C++ virtual classes\n",
    " * the overriden base class method can be invoked explicitly (baseClass.methosName(self,args)) \n",
    "* sometimes overriden methods have a lot in commons with the relative base definition\n",
    " * super() is a built-in function that can be used to extend the base class method\n",
    "* --\n",
    "* isinstance(inst,class): True if inst is an instance of of class or derived \n",
    "* issubclass(subClass,class): True if subClass derived from class "
   ]
  },
  {
   "cell_type": "code",
   "execution_count": 291,
   "metadata": {
    "slideshow": {
     "slide_type": "subslide"
    }
   },
   "outputs": [
    {
     "name": "stdout",
     "output_type": "stream",
     "text": [
      "f0 is a method of base class\n"
     ]
    }
   ],
   "source": [
    "%reset -f\n",
    "class base(object):\n",
    "    def f0(self): return 'f0 is a method of base class'\n",
    "\n",
    "class derived(base): # derived class inherits from base class\n",
    "    pass\n",
    "\n",
    "d = derived()\n",
    "print(d.f0()) "
   ]
  },
  {
   "cell_type": "code",
   "execution_count": 296,
   "metadata": {
    "slideshow": {
     "slide_type": "subslide"
    }
   },
   "outputs": [
    {
     "name": "stdout",
     "output_type": "stream",
     "text": [
      "\n",
      "err: name 'base' is not defined\n"
     ]
    }
   ],
   "source": [
    "%reset -f\n",
    "def anotherScope():\n",
    "    class base(object):\n",
    "        def f0(self): return 'f0 is a method of base class'\n",
    "\n",
    "try:\n",
    "    class derived(base): # base and derived class \n",
    "                         # should be in the same scope\n",
    "        pass\n",
    "except NameError as err:\n",
    "    print(\"\\nerr:\",err)"
   ]
  },
  {
   "cell_type": "code",
   "execution_count": 309,
   "metadata": {
    "slideshow": {
     "slide_type": "subslide"
    }
   },
   "outputs": [
    {
     "name": "stdout",
     "output_type": "stream",
     "text": [
      "f0 is a method of class A: it can be inherited recursively\n"
     ]
    }
   ],
   "source": [
    "%reset -f\n",
    "class A(object):\n",
    "    def f0(self): return \"f0 is a method of class A: \"+\\\n",
    "                         \"it can be inherited recursively\"\n",
    "class B(A): # B inherits B from A\n",
    "    pass\n",
    "class C(B): # C inherits B from A\n",
    "    pass\n",
    "class D(A): # D inherits B from A\n",
    "    pass\n",
    "\n",
    "d = D()\n",
    "print(d.f0())"
   ]
  },
  {
   "cell_type": "code",
   "execution_count": 311,
   "metadata": {
    "slideshow": {
     "slide_type": "subslide"
    }
   },
   "outputs": [
    {
     "name": "stdout",
     "output_type": "stream",
     "text": [
      "f0 is a method of class B\n"
     ]
    }
   ],
   "source": [
    "%reset -f\n",
    "class A(object):\n",
    "    def f0(self): return \"f0 is a method of class A\"\n",
    "class B(A): \n",
    "    def f0(self): return \"f0 is a method of class B\"\n",
    "\n",
    "b = B()\n",
    "print(b.f0()) # f0 was overriden by class B"
   ]
  },
  {
   "cell_type": "code",
   "execution_count": 1,
   "metadata": {
    "slideshow": {
     "slide_type": "subslide"
    }
   },
   "outputs": [
    {
     "name": "stdout",
     "output_type": "stream",
     "text": [
      "f0 is a method of class A\n",
      "f0 is a method of class B\n"
     ]
    }
   ],
   "source": [
    "%reset -f\n",
    "class A(object):\n",
    "    def f(self): return self.f0() # calls A.f0()\n",
    "    def f0(self): return \"f0 is a method of class A\"\n",
    "class B(A): \n",
    "    def f0(self): return \"f0 is a method of class B\"\n",
    "\n",
    "a = A()    \n",
    "b = B()\n",
    "print(a.f()) \n",
    "print(b.f()) # b.f()->a.f()->(self).f0() == b.f0()\n",
    "             # b inherits b from class A and calls A.f0()\n",
    "             # however, A.f0() was overriden by B.f0()! "
   ]
  },
  {
   "cell_type": "code",
   "execution_count": 47,
   "metadata": {
    "slideshow": {
     "slide_type": "subslide"
    }
   },
   "outputs": [
    {
     "name": "stdout",
     "output_type": "stream",
     "text": [
      "f0 is a method of class A\n",
      "f0 is a method of class A\n",
      "f0 is a method of class A\n"
     ]
    }
   ],
   "source": [
    "%reset -f\n",
    "class A(object):\n",
    "    def   f(self): return a.__class__.f0(a) # calls A.f0()\n",
    "    def  _f(self): return A.f0(a) \n",
    "    def f0(self): return \"f0 is a method of class A\"\n",
    "class B(A): \n",
    "    def f0(self): return \"f0 is a method of class B\"\n",
    "\n",
    "a = A()    \n",
    "b = B()\n",
    "print(a.f()) \n",
    "print(b.f())   # b.f()->a.f()->__class__.f0(obj) == obj.f0()\n",
    "print(b._f())  # b.f()->a.f()->        A.f0(obj) == obj.f0()               # b inherits b from class A and calls A.f0()\n",
    "               # the use of A.f0() is explicit, no override happens"
   ]
  },
  {
   "cell_type": "code",
   "execution_count": 112,
   "metadata": {
    "slideshow": {
     "slide_type": "subslide"
    }
   },
   "outputs": [
    {
     "name": "stdout",
     "output_type": "stream",
     "text": [
      "_2\n"
     ]
    }
   ],
   "source": [
    "%reset -f\n",
    "class A(object):\n",
    "    def __init__(self): self._1=1\n",
    "class B(A): \n",
    "    def __init__(self): \n",
    "        super().__init__() \n",
    "        '''\n",
    "         the method A.f0() is embedded in this line \n",
    "         then B._1 already exists!\n",
    "         and I saved (many?) lines of code\n",
    "         but also B._2 exists, while A._2 does not  \n",
    "        ''' \n",
    "        self._2=2    \n",
    "    \n",
    "a = A() # sets self._1 \n",
    "b = B() # sets self._1 and self._2\n",
    "for attr in dir(b): # attributes that are in b and not in a \n",
    "    if attr not in dir(a):\n",
    "        print(attr)"
   ]
  },
  {
   "cell_type": "code",
   "execution_count": 9,
   "metadata": {
    "slideshow": {
     "slide_type": "subslide"
    }
   },
   "outputs": [
    {
     "name": "stdout",
     "output_type": "stream",
     "text": [
      "issubclass(B,A) -> True\n",
      "issubclass(C,A) -> False\n",
      "issubclass(C,A) -> True\n",
      "\n",
      "isinstance(b,B) -> True  .... b is an instance of B\n",
      "isinstance(b,A) -> True  .... but B is a subclass of A\n",
      "isinstance(a,B) -> False .... however a is NOT an instance of B\n"
     ]
    }
   ],
   "source": [
    "%reset -f\n",
    "class A(object):\n",
    "    def f(self): pass\n",
    "class B(A):       # inherits from A\n",
    "    pass\n",
    "class C(object):  # does not inherit from A\n",
    "    pass\n",
    "class D(B):       # inherits from B, which inherits from A\n",
    "    pass\n",
    "\n",
    "print(\"issubclass(B,A) ->\",issubclass(B,A)) # True\n",
    "print(\"issubclass(C,A) ->\",issubclass(C,A)) # False\n",
    "print(\"issubclass(C,A) ->\",issubclass(D,A)) # True \n",
    "\n",
    "a = A()\n",
    "b = B()   \n",
    "print()\n",
    "print(\"isinstance(b,B) ->\",isinstance(b,B),\\\n",
    "      \" .... b is an instance of B\")  \n",
    "print(\"isinstance(b,A) ->\",isinstance(b,A),\\\n",
    "      \" .... but B is a subclass of A\") \n",
    "print(\"isinstance(a,B) ->\",isinstance(a,B),\\\n",
    "      \".... however a is NOT an instance of B\") "
   ]
  },
  {
   "cell_type": "markdown",
   "metadata": {
    "slideshow": {
     "slide_type": "subslide"
    }
   },
   "source": [
    "## Multiple inheritance\n",
    "\n",
    "* a class can be derived by multiple base class\n",
    "* search for attributes is depth-first, left-to-right \n",
    " * Method Resolution Order algorithm \n",
    " * base class should be accessed only once, otherwise TypeError is raised\n",
    "* type(obj).mro(): returns the order in which the methods accessed by obj are searched \n",
    "* super() needs to know which base class needs to be accessed "
   ]
  },
  {
   "cell_type": "code",
   "execution_count": 34,
   "metadata": {
    "slideshow": {
     "slide_type": "subslide"
    }
   },
   "outputs": [
    {
     "name": "stdout",
     "output_type": "stream",
     "text": [
      "a.f() is  B\n",
      "MRO is [<class '__main__.A'>, <class '__main__.B'>, <class '__main__.C'>, <class 'object'>]\n"
     ]
    }
   ],
   "source": [
    "%reset -f\n",
    "class C(object): \n",
    "    def f(self): return \"C\"\n",
    "class B(C): \n",
    "    def f(self): return \"B\"\n",
    "class A(B,C): # B->C,C... clearly B is looked first\n",
    "    pass\n",
    "\n",
    "a = A() \n",
    "print(\"a.f() is \",a.f()) # B or C? \n",
    "print(\"MRO is\", type(a).mro())"
   ]
  },
  {
   "cell_type": "code",
   "execution_count": 113,
   "metadata": {
    "slideshow": {
     "slide_type": "subslide"
    }
   },
   "outputs": [
    {
     "name": "stdout",
     "output_type": "stream",
     "text": [
      "Cannot create a consistent method resolution\n",
      "order (MRO) for bases B, C\n"
     ]
    }
   ],
   "source": [
    "%reset -f\n",
    "class C(object): \n",
    "    def f(self): return \"C\"\n",
    "class B(C): \n",
    "    def f(self): return \"B\"\n",
    "\n",
    "try:    \n",
    "    class A(C,B): # C,B->C... what class should be looked first?\n",
    "                  # raises method resolution order not consistent\n",
    "        pass      \n",
    "except TypeError as err: \n",
    "    print(err)"
   ]
  },
  {
   "cell_type": "code",
   "execution_count": 9,
   "metadata": {
    "slideshow": {
     "slide_type": "subslide"
    }
   },
   "outputs": [
    {
     "name": "stdout",
     "output_type": "stream",
     "text": [
      "\n",
      " <class '__main__.A'> \n",
      "\tlist of attributes: A \n",
      " <class '__main__.B'> \n",
      "\tlist of attributes: B \n",
      " <class '__main__.C'> \n",
      "\tlist of attributes: B C \n",
      " <class '__main__.D'> \n",
      "\tlist of attributes: B D \n",
      " <class '__main__.E'> \n",
      "\tlist of attributes: A B C D "
     ]
    }
   ],
   "source": [
    "%reset -f\n",
    "class A(object):\n",
    "    def __init__(self):\n",
    "        self.A = None\n",
    "class B(A): \n",
    "    def __init__(self):\n",
    "        super(A,self).__init__()      # super(A,self) -> object\n",
    "        self.B = None\n",
    "class C(B,A): \n",
    "    def __init__(self):\n",
    "        super(C,self).__init__()      # super(C,self) -> B        \n",
    "        self.C = None\n",
    "class D(B,A): \n",
    "    def __init__(self):  \n",
    "        super().__init__()            # super()       -> B\n",
    "                                      # super(D,self) -> B\n",
    "        self.D = None\n",
    "class E(D,C,B,A):\n",
    "    def __init__(self):  \n",
    "        super(B,self).__init__() # -> A\n",
    "        super(C,self).__init__() # -> B\n",
    "        super(D,self).__init__() # -> C        \n",
    "        super(E,self).__init__() # -> D   \n",
    "\n",
    "a = A()        \n",
    "b = B() \n",
    "c = C() \n",
    "d = D() \n",
    "e = E() \n",
    "\n",
    "for obj in [a,b,c,d,e]: # which attributes have been set?     \n",
    "    print(\"\\n\",type(obj),\"\\n\\tlist of attributes: \",end=\"\")  \n",
    "    for attr in dir(obj): \n",
    "        if attr not in dir(A): # Please note: A is not A()... \n",
    "            print(attr,end=\" \")                              "
   ]
  },
  {
   "cell_type": "markdown",
   "metadata": {
    "slideshow": {
     "slide_type": "slide"
    }
   },
   "source": [
    "## super() and Method Resolution Order  \n",
    "\n",
    "* super() means super(NextBaseClass,self)\n",
    " * MRO rules what means \"next\" \n",
    " * diamond structure: what is method order?\n",
    "```txt\n",
    "|               A.f()\n",
    "|              / \\\n",
    "|             /   \\\n",
    "|            /     \\\n",
    "|           B.f()   C.f()\n",
    "|            \\     / \n",
    "|             \\   /  \n",
    "|              \\ /   \n",
    "|               D.f()\n",
    "```\n"
   ]
  },
  {
   "cell_type": "code",
   "execution_count": 7,
   "metadata": {
    "slideshow": {
     "slide_type": "-"
    }
   },
   "outputs": [
    {
     "name": "stdout",
     "output_type": "stream",
     "text": [
      "enters D.f()\n",
      " enters B.f()\n",
      "  enters C.f()\n",
      "   calls A.f()\n",
      "  exit C.f()\n",
      " exit B.f()\n",
      "exit D.f()\n",
      "[<class '__main__.D'>, <class '__main__.B'>, <class '__main__.C'>, <class '__main__.A'>, <class 'object'>]\n"
     ]
    }
   ],
   "source": [
    "%reset -f\n",
    "class A(object):\n",
    "    def f(self): print(\"   calls A.f()\")\n",
    "class B(A):\n",
    "    def f(self):\n",
    "        print(\" enters B.f()\")\n",
    "        super().f()\n",
    "        print(\" exit B.f()\")\n",
    "class C(A):\n",
    "    def f(self): \n",
    "        print(\"  enters C.f()\")\n",
    "        super().f()\n",
    "        print(\"  exit C.f()\")\n",
    "class D(B,C):\n",
    "    def __init__(self): self.f() \n",
    "    def f(self): \n",
    "        print(\"enters D.f()\")\n",
    "        super().f()\n",
    "        print(\"exit D.f()\")\n",
    "        \n",
    "d=D()        \n",
    "print(D.mro())"
   ]
  },
  {
   "cell_type": "markdown",
   "metadata": {
    "slideshow": {
     "slide_type": "subslide"
    }
   },
   "source": [
    "## Practical example using super()\n",
    "\n",
    "* force a list to have integers values"
   ]
  },
  {
   "cell_type": "code",
   "execution_count": 223,
   "metadata": {
    "slideshow": {
     "slide_type": "-"
    }
   },
   "outputs": [
    {
     "name": "stdout",
     "output_type": "stream",
     "text": [
      "intList only supports integer values.\n",
      "\n",
      "my intList is......... [3, 10, 8, 6, 7, 2, 1]\n",
      "once sorted becomes... [1, 2, 3, 6, 7, 8, 10]\n"
     ]
    }
   ],
   "source": [
    "class intList(list):\n",
    "    def __init__(self,items):\n",
    "        for item in items: self._validate(item)\n",
    "        super().__init__()\n",
    "        self.items = list(items)\n",
    "    def __str__(self): return str(self.items)\n",
    "    def _validate(self,item): \n",
    "        if not isinstance(item, int):\n",
    "            raise TypeError('{} only supports integer values.'.format(self.__class__.__name__))\n",
    "            \n",
    "class sorted_intList(intList):\n",
    "    def __init__(self,int_list):    \n",
    "        super().__init__(int_list.items)   \n",
    "        self.items.sort()\n",
    "    def __str__(self): return str(self.items)\n",
    "            \n",
    "try: \n",
    "    l = intList([\"\"])            \n",
    "except TypeError as err:\n",
    "    print(err,end=\"\\n\\n\")\n",
    "l = intList([3,10,8,6,7,2,1])\n",
    "sl = sorted_intList(l)\n",
    "print(\"my intList is.........\",l)\n",
    "print(\"once sorted becomes...\",sl)"
   ]
  },
  {
   "cell_type": "markdown",
   "metadata": {
    "slideshow": {
     "slide_type": "slide"
    }
   },
   "source": [
    "## exercises to do \n",
    "\n",
    "* follow the order for implementation (and use inheritance and super())\n",
    "* cause exceptions of type Lecture2Err when raising an error\n",
    "* -- \n",
    "* define Point(...): \n",
    " * receives a list of two numeric values (i.e.: the coordinates), otherwise raise err\n",
    " * method isnumeric(self,c): returns c if numeric, otherwise raise err\n",
    " * method is2D(self,coord): returns coord if Point is 2D, otherwise raise err\n",
    "* define Shape(...): \n",
    " * receives a list of type Point, otherwise raise err\n",
    " * method ispoint(self,p): returns p if Point, otherwise raise err\n",
    " * define any other method you may need\n",
    "* define Circle(...), Segment(...), Triangle(...): \n",
    " * Circle.\\__init\\__(self,center,radius): center is a Point (only 1 Point), radius is a numeric, otherwise raise err\n",
    " * Segment.\\__init\\__(self,points): points is a list of 2 only Points, otherwise raise err\n",
    " * Triangle.\\__init\\__(self,points): points is a list of 3 only Points, otherwise raise err\n",
    " * method checkNpoints(...): raise err if an instance was defined with the wrong number of points\n",
    " * method calc_perimeter(self): returns the value of perimeter \n",
    " * method calc_area(self): returns the value of the area\n",
    " * define any other method you may need"
   ]
  }
 ],
 "metadata": {
  "celltoolbar": "Slideshow",
  "kernelspec": {
   "display_name": "Python 3",
   "language": "python",
   "name": "python3"
  },
  "language_info": {
   "codemirror_mode": {
    "name": "ipython",
    "version": 3
   },
   "file_extension": ".py",
   "mimetype": "text/x-python",
   "name": "python",
   "nbconvert_exporter": "python",
   "pygments_lexer": "ipython3",
   "version": "3.5.2"
  }
 },
 "nbformat": 4,
 "nbformat_minor": 2
}
